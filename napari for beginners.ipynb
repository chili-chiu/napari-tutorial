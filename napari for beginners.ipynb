{
 "cells": [
  {
   "cell_type": "markdown",
   "id": "f514f5ac",
   "metadata": {},
   "source": [
    "# napari for beginners"
   ]
  },
  {
   "cell_type": "markdown",
   "id": "8eb003a9",
   "metadata": {},
   "source": [
    "## about napari\n",
    "\n",
    "napari is a fast, interactive, multi-dimensional image viewer, with [a vibrant plugin ecosystem](https://www.napari-hub.org/) that expands its capability to tackle various domain-specific visualization and analysis needs. It is built on Qt (for the GUI), vispy (for performant GPU-based rendering), and the scientific Python stack (numpy, scipy, and scikit-image). \n",
    "\n",
    "napari is an open source project on [GitHub](https://github.com/napari/napari) to facilitate transparency, reuse, and extensibility. \n",
    "\n",
    "At its core, it provides critical viewer features out-of-the-box, such as support for large multi-dimensional data; provide “layers” to simultaneously visualize images, models, and analysis results; and easy manual, interactive annotation in 3D. \n"
   ]
  },
  {
   "cell_type": "markdown",
   "id": "d80a14af",
   "metadata": {},
   "source": [
    "## what's covered here\n",
    "\n",
    "This tutorial is for napari first-timers to give them a quick glance of what napari does, and give it a try right away. We will cover:\n",
    "\n",
    "- Installation \n",
    "- Open an image\n",
    "- View the image in 2D/3D\n",
    "- Manually add points to label cells\n",
    "- Make an animation\n",
    "\n",
    "Along the way, you will see how to access napari functions from Python code and from GUI - though for different purposes, one method might be easier than another. \n",
    "\n",
    "You will also see some examples of plugins. The core napari viewer focuses on domain-agnostic functions i.e.<TO DO>  \n",
    "\n",
    "** This tutorial uses napari 0.4.13. <br>"
   ]
  },
  {
   "cell_type": "markdown",
   "id": "847cd522",
   "metadata": {},
   "source": [
    "### Installation\n",
    "\n",
    "- For those familiar with Python:\n",
    "\n",
    "    napari can be installed on most macOS, Linux, and Windows systems with Python 3.7, 3.8, and 3.9 using pip:\n",
    "\n",
    "```python\n",
    "pip install 'napari[all]'\n",
    "```\n",
    "    Once installed, simply run\n",
    "    \n",
    "```python\n",
    "napari\n",
    "```\n",
    "\n",
    "- Or download the bundled app for simple installation:\n",
    "\n",
    "    [Linux installation](napari-0.4.13-Linux-x86_64.zip)<br>\n",
    "    [macOS installaion](napari-0.4.13-macOS-x86_64.zip)<br>\n",
    "    [Windows installation](napari-0.4.13-Windows-x86_64.zip)<br>\n",
    "\n",
    "    Note: 0.4.13 bundled app is missing sample menu data ([issue 3968](https://github.com/napari/napari/issues/3968))\n",
    "    \n",
    "    Note: for the latest release, please visit [here](https://github.com/napari/napari/releases) and look for Assets.\n",
    "\n",
    "If you run into any issue, please visit the more detailed [installation guide](https://napari.org/tutorials/fundamentals/installation.html), or report an issue on GitHub! "
   ]
  },
  {
   "cell_type": "markdown",
   "id": "8b1d7c35",
   "metadata": {},
   "source": [
    "### Open an image\n",
    "\n",
    "napari natively supports tiff (and other formats supported by skimage.io.imread) as input image file format.<br>\n",
    "Try downloading [this ome tiff file](https://downloads.openmicroscopy.org/images/OME-TIFF/2016-06/MitoCheck/00001_01.ome.tiff), and drag and drop the file in napari.\n",
    "\n",
    "Additional input file formats may be supported [by plugins](https://www.napari-hub.org/). \n",
    "Try [napari-aicsimageio](https://www.napari-hub.org/plugins/napari-aicsimageio) if you have czi, lif, or nd2 files."
   ]
  },
  {
   "cell_type": "code",
   "execution_count": 5,
   "id": "642db2f8",
   "metadata": {
    "tags": [
     "hide-cell"
    ]
   },
   "outputs": [],
   "source": [
    "import napari\n",
    "viewer = napari.Viewer()\n",
    "from skimage import data\n",
    "#load multichannel image in one line, with additional options\n",
    "viewer = napari.view_image(data.cells3d(), channel_axis=1, name=[\"membrane\", \"nuclei\"])\n",
    "viewer.dims.ndisplay = 3"
   ]
  },
  {
   "cell_type": "markdown",
   "id": "94ae46d5",
   "metadata": {},
   "source": [
    "````{tabbed} napari in code\n",
    "\n",
    "```python\n",
    "import napari\n",
    "viewer = napari.Viewer()\n",
    "from skimage import data\n",
    "#load multichannel image in one line, with additional options\n",
    "viewer = napari.view_image(data.cells3d(), channel_axis=1, name=[\"membrane\", \"nuclei\"], colormap=[\"green\", \"magenta\"])\n",
    "viewer.dims.ndisplay = 3\n",
    "```\n",
    "\n",
    "````\n",
    "\n",
    "````{tabbed} napari in GUI gif\n",
    "![SegmentLocal](file_open.gif \"segment\")\n",
    "````"
   ]
  },
  {
   "cell_type": "markdown",
   "id": "7b2e74cb",
   "metadata": {},
   "source": [
    "## Install plugins\n",
    "\n",
    "[napari hub](https://www.napari-hub.org/) lets users browse existing napari plugins. Most plugins can be installed either via pip install, or from napari viewer.\n",
    "\n",
    "````{tabbed} pip install\n",
    "\n",
    "```python\n",
    "pip install NicePlugin\n",
    "```\n",
    "\n",
    "````\n",
    "\n",
    "````{tabbed} napari viewer plugin install\n",
    "place holder for plugin install gif\n",
    "````"
   ]
  },
  {
   "cell_type": "markdown",
   "id": "1bfe916a",
   "metadata": {},
   "source": [
    "## Get image info\n",
    "\n",
    "Image dimension <br>\n",
    "voxel size and time interval <br>"
   ]
  },
  {
   "cell_type": "code",
   "execution_count": 3,
   "id": "e885e0c6",
   "metadata": {},
   "outputs": [
    {
     "name": "stdout",
     "output_type": "stream",
     "text": [
      "image dimension in (z,y,x): (60, 256, 256)\n"
     ]
    }
   ],
   "source": [
    "print(\"image dimension in (z,y,x):\", viewer.layers['nuclei'].data.shape)\n",
    "print(\"image voxel size for (z,y,x):\", viewer.layers['nuclei'].scale)"
   ]
  },
  {
   "cell_type": "markdown",
   "id": "070f10e2",
   "metadata": {},
   "source": [
    "## Adjust image display\n",
    "\n",
    "Both API and GUI have flexible image display control.<br>\n",
    "\n",
    "For other display options, see [napari image layer API](https://napari.org/api/stable/napari.layers.Image.html)."
   ]
  },
  {
   "cell_type": "markdown",
   "id": "889d6965",
   "metadata": {},
   "source": [
    "````{tabbed} napari in code\n",
    "\n",
    "```python\n",
    "#change nuclei color to magenta\n",
    "viewer.layers['nuclei'].colormap = 'red'\n",
    "viewer.layers['membrane'].colormap = 'green'\n",
    "```\n",
    "\n",
    "````\n",
    "\n",
    "````{tabbed} napari in GUI gif\n",
    "![SegmentLocal](colormap.gif \"segment\")\n",
    "````"
   ]
  },
  {
   "cell_type": "markdown",
   "id": "2bc9ec97",
   "metadata": {},
   "source": [
    "## File saving\n",
    "\n",
    "Default or recommended file formats for each layer type:\n",
    "???\n",
    "\n",
    "````{tabbed} napari in code\n",
    "\n",
    "```python\n",
    "napari.save_layers(path, layers)\n",
    "```\n",
    "\n",
    "````\n",
    "\n",
    "````{tabbed} napari in GUI gif\n",
    "place holder for file saving gif\n",
    "````"
   ]
  },
  {
   "cell_type": "code",
   "execution_count": null,
   "id": "a02cc510",
   "metadata": {
    "tags": [
     "hide-cell"
    ]
   },
   "outputs": [],
   "source": [
    "viewer.close()"
   ]
  }
 ],
 "metadata": {
  "celltoolbar": "Tags",
  "jupytext": {
   "formats": "ipynb,md:myst"
  },
  "kernelspec": {
   "display_name": "Python 3 (ipykernel)",
   "language": "python",
   "name": "python3"
  },
  "language_info": {
   "codemirror_mode": {
    "name": "ipython",
    "version": 3
   },
   "file_extension": ".py",
   "mimetype": "text/x-python",
   "name": "python",
   "nbconvert_exporter": "python",
   "pygments_lexer": "ipython3",
   "version": "3.8.11"
  }
 },
 "nbformat": 4,
 "nbformat_minor": 5
}
