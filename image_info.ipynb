{
 "cells": [
  {
   "cell_type": "markdown",
   "id": "b64f2687",
   "metadata": {},
   "source": [
    "## Summary\n",
    "\n",
    "This tutorial uses napari 0.4.15.<br>\n",
    "\n",
    "Dataset:<br>\n",
    "FISH in C. elegans\n",
    "Voxel dimensions: 0.162x0.162x0.200 um\n",
    "\n",
    "Goals:<br> \n",
    "- Display intensity histogram for image processing steps\n",
    "- Show images with the same contrast\n",
    "\n",
    "Steps:\n",
    "- Load image\n",
    "- Crop image (to speed up testing)\n",
    "- Remove background\n",
    "- Remove noise\n",
    "\n",
    "Additional resources:\n",
    "https://haesleinhuepf.github.io/BioImageAnalysisNotebooks/intro.html\n",
    "\n",
    "Related issues:\n",
    "\n"
   ]
  },
  {
   "cell_type": "markdown",
   "id": "4ca632eb",
   "metadata": {},
   "source": [
    "## Load Image\n",
    "\n",
    "Images are in tiff format, can be opened by napari without additional reader plugins.\n",
    "Images saved locally in the folder '/Users/cchiu/Desktop/images/ABRF/FISH/'"
   ]
  },
  {
   "cell_type": "code",
   "execution_count": 34,
   "id": "f112ef27",
   "metadata": {},
   "outputs": [
    {
     "name": "stdout",
     "output_type": "stream",
     "text": [
      "['/Users/cchiu/Desktop/images/ABRF/FISH/fish4_celegans_dyn-10_ceff-90_final.ics.ome.tiff', '/Users/cchiu/Desktop/images/ABRF/FISH/fish2_celegans_dyn-90_ceff-90_final.ics.ome.tiff', '/Users/cchiu/Desktop/images/ABRF/FISH/fish1_celegans_dyn-90_ceff-0_final.ics.ome.tiff', '/Users/cchiu/Desktop/images/ABRF/FISH/fish3_celegans_dyn-10_ceff-0_final.ics.ome.tiff']\n"
     ]
    }
   ],
   "source": [
    "from os import listdir\n",
    "from os.path import isfile, join\n",
    "mypath = '/Users/cchiu/Desktop/images/ABRF/FISH/'\n",
    "files = [join(mypath, f) for f in listdir(mypath)]\n",
    "print(files)"
   ]
  },
  {
   "cell_type": "markdown",
   "id": "a7984835",
   "metadata": {},
   "source": [
    "## Original image histogram"
   ]
  },
  {
   "cell_type": "code",
   "execution_count": 35,
   "id": "78405a9e",
   "metadata": {},
   "outputs": [
    {
     "name": "stdout",
     "output_type": "stream",
     "text": [
      "/Users/cchiu/Desktop/images/ABRF/FISH/fish3_celegans_dyn-10_ceff-0_final.ics.ome.tiff\n"
     ]
    },
    {
     "name": "stderr",
     "output_type": "stream",
     "text": [
      "/opt/anaconda3/envs/napari-blob/lib/python3.10/site-packages/napari_tools_menu/__init__.py:165: FutureWarning: Public access to Window.qt_viewer is deprecated and will be removed in\n",
      "v0.5.0. It is considered an \"implementation detail\" of the napari\n",
      "application, not part of the napari viewer model. If your use case\n",
      "requires access to qt_viewer, please open an issue to discuss.\n",
      "  self.tools_menu = ToolsMenu(self, self.qt_viewer.viewer)\n"
     ]
    },
    {
     "data": {
      "image/png": "[encoded data removed]",
      "text/plain": [
       "<Figure size 432x288 with 1 Axes>"
      ]
     },
     "metadata": {
      "needs_background": "light"
     },
     "output_type": "display_data"
    }
   ],
   "source": [
    "import napari\n",
    "from napari.utils import nbscreenshot\n",
    "from tifffile import imread\n",
    "\n",
    "from matplotlib.pyplot import hist\n",
    "import matplotlib.pyplot as plt\n",
    "import numpy as np\n",
    "\n",
    "i = 3\n",
    "print(files[i])\n",
    "fish1 = imread(files[i])\n",
    "viewer = napari.view_image(fish1)\n",
    "#100% intenstiy for the max range\n",
    "max100 = np.percentile(fish1.flatten(),100)\n",
    "ax = hist(fish1.flatten(),bins=200,range=(0,max100))\n",
    "plt.yscale('log')\n",
    "    \n",
    "#crop the image for faster processing\n",
    "#fish1 = fish1[40:50,100:300,100:300]\n",
    "\n",
    "\n",
    "#viewer.dims.ndisplay = 3\n",
    "#print(\"file dimension: (z,y,x)\",viewer.layers['original'].data.shape)"
   ]
  },
  {
   "cell_type": "markdown",
   "id": "3786fa3d",
   "metadata": {},
   "source": [
    "## Remove background\n",
    "Use skimage.morphology.white_tophat\n",
    "\n",
    "The white top hat of an image is defined as the image minus its morphological opening. This operation returns the bright spots of the image that are smaller than the footprint."
   ]
  },
  {
   "cell_type": "code",
   "execution_count": 38,
   "id": "4f2e9eb8",
   "metadata": {},
   "outputs": [
    {
     "data": {
      "image/png": "[encoded data removed]",
      "text/plain": [
       "<Figure size 432x288 with 1 Axes>"
      ]
     },
     "metadata": {
      "needs_background": "light"
     },
     "output_type": "display_data"
    }
   ],
   "source": [
    "from skimage.morphology import white_tophat, ball\n",
    "#bg_subtracted_image = white_tophat(fish1, ball(10))\n",
    "\n",
    "#viewer.add_image(bg_subtracted_image, name='remove_bg')\n",
    "#100% intenstiy for the max range\n",
    "max100 = np.percentile(bg_subtracted_image.flatten(),100)\n",
    "ax = hist(bg_subtracted_image.flatten(),bins=200,range=(0,max100))\n",
    "plt.yscale('log')"
   ]
  },
  {
   "cell_type": "markdown",
   "id": "27cdae60",
   "metadata": {},
   "source": [
    "## Remove noise\n",
    "Use skimage.filters.median"
   ]
  },
  {
   "cell_type": "code",
   "execution_count": 39,
   "id": "8268d451",
   "metadata": {},
   "outputs": [
    {
     "data": {
      "image/png": "[encoded data removed]",
      "text/plain": [
       "<Figure size 432x288 with 1 Axes>"
      ]
     },
     "metadata": {
      "needs_background": "light"
     },
     "output_type": "display_data"
    }
   ],
   "source": [
    "from skimage.filters import median\n",
    "#median_filtered = median(bg_subtracted_image,ball(1))\n",
    "#viewer.add_image(median_filtered, name='filtered')\n",
    "#100% intenstiy for the max range\n",
    "max100 = np.percentile(median_filtered.flatten(),100)\n",
    "ax = hist(median_filtered.flatten(),bins=200,range=(0,max100))\n",
    "plt.yscale('log')"
   ]
  },
  {
   "cell_type": "code",
   "execution_count": null,
   "id": "71c332c9",
   "metadata": {},
   "outputs": [],
   "source": []
  }
 ],
 "metadata": {
  "kernelspec": {
   "display_name": "Python 3 (ipykernel)",
   "language": "python",
   "name": "python3"
  },
  "language_info": {
   "codemirror_mode": {
    "name": "ipython",
    "version": 3
   },
   "file_extension": ".py",
   "mimetype": "text/x-python",
   "name": "python",
   "nbconvert_exporter": "python",
   "pygments_lexer": "ipython3",
   "version": "3.10.2"
  }
 },
 "nbformat": 4,
 "nbformat_minor": 5
}
