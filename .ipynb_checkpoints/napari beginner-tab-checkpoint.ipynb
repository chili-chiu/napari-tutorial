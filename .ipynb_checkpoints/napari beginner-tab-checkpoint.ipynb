{
 "cells": [
  {
   "cell_type": "markdown",
   "id": "f514f5ac",
   "metadata": {},
   "source": [
    "# napari beginner"
   ]
  },
  {
   "cell_type": "markdown",
   "id": "8eb003a9",
   "metadata": {},
   "source": [
    "## Summary\n",
    "\n",
    "This tutorial uses napari 0.4.12. <br>\n",
    "\n",
    "Showcase how to access napari functions from Python code and from GUI"
   ]
  },
  {
   "cell_type": "markdown",
   "id": "847cd522",
   "metadata": {},
   "source": [
    "## Install napari\n",
    "\n",
    "````{tabbed} napari in code\n",
    "\n",
    "```python\n",
    "pip install napari[all]\n",
    "```\n",
    "\n",
    "````\n",
    "\n",
    "````{tabbed} napari in GUI\n",
    "double click link\n",
    "````"
   ]
  },
  {
   "cell_type": "markdown",
   "id": "8b1d7c35",
   "metadata": {},
   "source": [
    "## Load image\n",
    "napari natively supports tiff (and other formats supported by skimage.io.imread) as input image file format.<br>\n",
    "Additional input file formats may be supported by plugins.<br>"
   ]
  },
  {
   "cell_type": "code",
   "execution_count": 5,
   "id": "642db2f8",
   "metadata": {
    "tags": [
     "hide-cell"
    ]
   },
   "outputs": [],
   "source": [
    "import napari\n",
    "viewer = napari.Viewer()\n",
    "from skimage import data\n",
    "#load multichannel image in one line, with additional options\n",
    "viewer = napari.view_image(data.cells3d(), channel_axis=1, name=[\"membrane\", \"nuclei\"])\n",
    "viewer.dims.ndisplay = 3"
   ]
  },
  {
   "cell_type": "markdown",
   "id": "94ae46d5",
   "metadata": {},
   "source": [
    "````{tabbed} napari in code\n",
    "\n",
    "```python\n",
    "import napari\n",
    "viewer = napari.Viewer()\n",
    "from skimage import data\n",
    "#load multichannel image in one line, with additional options\n",
    "viewer = napari.view_image(data.cells3d(), channel_axis=1, name=[\"membrane\", \"nuclei\"], colormap=[\"green\", \"magenta\"])\n",
    "viewer.dims.ndisplay = 3\n",
    "```\n",
    "\n",
    "````\n",
    "\n",
    "````{tabbed} napari in GUI gif\n",
    "![SegmentLocal](file_open.gif \"segment\")\n",
    "````"
   ]
  },
  {
   "cell_type": "markdown",
   "id": "7b2e74cb",
   "metadata": {},
   "source": [
    "## Install plugins\n",
    "\n",
    "[napari hub](https://www.napari-hub.org/) lets users browse existing napari plugins. Most plugins can be installed either via pip install, or from napari viewer.\n",
    "\n",
    "````{tabbed} pip install\n",
    "\n",
    "```python\n",
    "pip install NicePlugin\n",
    "```\n",
    "\n",
    "````\n",
    "\n",
    "````{tabbed} napari viewer plugin install\n",
    "place holder for plugin install gif\n",
    "````"
   ]
  },
  {
   "cell_type": "markdown",
   "id": "1bfe916a",
   "metadata": {},
   "source": [
    "## Get image info\n",
    "\n",
    "Image dimension <br>\n",
    "voxel size and time interval <br>"
   ]
  },
  {
   "cell_type": "code",
   "execution_count": 3,
   "id": "e885e0c6",
   "metadata": {},
   "outputs": [
    {
     "name": "stdout",
     "output_type": "stream",
     "text": [
      "image dimension in (z,y,x): (60, 256, 256)\n"
     ]
    }
   ],
   "source": [
    "print(\"image dimension in (z,y,x):\", viewer.layers['nuclei'].data.shape)\n",
    "print(\"image voxel size for (z,y,x):\", viewer.layers['nuclei'].scale)"
   ]
  },
  {
   "cell_type": "markdown",
   "id": "070f10e2",
   "metadata": {},
   "source": [
    "## Adjust image display\n",
    "\n",
    "Both API and GUI have flexible image display control.<br>\n",
    "\n",
    "For other display options, see [napari image layer API](https://napari.org/api/stable/napari.layers.Image.html)."
   ]
  },
  {
   "cell_type": "markdown",
   "id": "889d6965",
   "metadata": {},
   "source": [
    "````{tabbed} napari in code\n",
    "\n",
    "```python\n",
    "#change nuclei color to magenta\n",
    "viewer.layers['nuclei'].colormap = 'red'\n",
    "viewer.layers['membrane'].colormap = 'green'\n",
    "```\n",
    "\n",
    "````\n",
    "\n",
    "````{tabbed} napari in GUI gif\n",
    "![SegmentLocal](colormap.gif \"segment\")\n",
    "````"
   ]
  },
  {
   "cell_type": "markdown",
   "id": "2bc9ec97",
   "metadata": {},
   "source": [
    "## File saving\n",
    "\n",
    "Default or recommended file formats for each layer type:\n",
    "???\n",
    "\n",
    "````{tabbed} napari in code\n",
    "\n",
    "```python\n",
    "napari.save_layers(path, layers)\n",
    "```\n",
    "\n",
    "````\n",
    "\n",
    "````{tabbed} napari in GUI gif\n",
    "place holder for file saving gif\n",
    "````"
   ]
  },
  {
   "cell_type": "code",
   "execution_count": null,
   "id": "a02cc510",
   "metadata": {
    "tags": [
     "hide-cell"
    ]
   },
   "outputs": [],
   "source": [
    "viewer.close()"
   ]
  }
 ],
 "metadata": {
  "celltoolbar": "Tags",
  "jupytext": {
   "formats": "ipynb,md:myst"
  },
  "kernelspec": {
   "display_name": "Python 3 (ipykernel)",
   "language": "python",
   "name": "python3"
  },
  "language_info": {
   "codemirror_mode": {
    "name": "ipython",
    "version": 3
   },
   "file_extension": ".py",
   "mimetype": "text/x-python",
   "name": "python",
   "nbconvert_exporter": "python",
   "pygments_lexer": "ipython3",
   "version": "3.8.11"
  }
 },
 "nbformat": 4,
 "nbformat_minor": 5
}
