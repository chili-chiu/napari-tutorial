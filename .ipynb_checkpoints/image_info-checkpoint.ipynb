{
 "cells": [
  {
   "cell_type": "markdown",
   "id": "b64f2687",
   "metadata": {},
   "source": [
    "## Summary\n",
    "\n",
    "This tutorial uses napari 0.4.15.<br>\n",
    "\n",
    "Dataset:<br>\n",
    "FISH in C. elegans\n",
    "Voxel dimensions: 0.162x0.162x0.200 um\n",
    "\n",
    "Goals:<br> \n",
    "- Display intensity histogram for image processing steps\n",
    "- Show images with the same contrast\n",
    "\n",
    "Steps:\n",
    "- Load image\n",
    "- Crop image (to speed up testing)\n",
    "- Remove background\n",
    "- Remove noise\n",
    "\n",
    "Additional resources:\n",
    "https://haesleinhuepf.github.io/BioImageAnalysisNotebooks/intro.html\n",
    "\n",
    "Related issues:\n",
    "\n"
   ]
  },
  {
   "cell_type": "markdown",
   "id": "4ca632eb",
   "metadata": {},
   "source": [
    "## Load Image\n",
    "\n",
    "Images are in tiff format, can be opened by napari without additional reader plugins.\n",
    "Images saved locally in the folder '/Users/cchiu/Desktop/images/ABRF/FISH/'"
   ]
  },
  {
   "cell_type": "code",
   "execution_count": 1,
   "id": "f112ef27",
   "metadata": {},
   "outputs": [
    {
     "name": "stdout",
     "output_type": "stream",
     "text": [
      "['/Users/cchiu/Desktop/images/ABRF/FISH/fish4_celegans_dyn-10_ceff-90_final.ics.ome.tiff', '/Users/cchiu/Desktop/images/ABRF/FISH/fish2_celegans_dyn-90_ceff-90_final.ics.ome.tiff', '/Users/cchiu/Desktop/images/ABRF/FISH/fish1_celegans_dyn-90_ceff-0_final.ics.ome.tiff', '/Users/cchiu/Desktop/images/ABRF/FISH/fish3_celegans_dyn-10_ceff-0_final.ics.ome.tiff']\n"
     ]
    }
   ],
   "source": [
    "from os import listdir\n",
    "from os.path import isfile, join\n",
    "mypath = '/Users/cchiu/Desktop/images/ABRF/FISH/'\n",
    "files = [join(mypath, f) for f in listdir(mypath)]\n",
    "print(files)"
   ]
  },
  {
   "cell_type": "code",
   "execution_count": 26,
   "id": "78405a9e",
   "metadata": {},
   "outputs": [
    {
     "name": "stderr",
     "output_type": "stream",
     "text": [
      "/opt/anaconda3/envs/napari-blob/lib/python3.10/site-packages/napari_tools_menu/__init__.py:165: FutureWarning: Public access to Window.qt_viewer is deprecated and will be removed in\n",
      "v0.5.0. It is considered an \"implementation detail\" of the napari\n",
      "application, not part of the napari viewer model. If your use case\n",
      "requires access to qt_viewer, please open an issue to discuss.\n",
      "  self.tools_menu = ToolsMenu(self, self.qt_viewer.viewer)\n"
     ]
    },
    {
     "ename": "TypeError",
     "evalue": "'tuple' object does not support item assignment",
     "output_type": "error",
     "traceback": [
      "\u001b[0;31m---------------------------------------------------------------------------\u001b[0m",
      "\u001b[0;31mTypeError\u001b[0m                                 Traceback (most recent call last)",
      "Input \u001b[0;32mIn [26]\u001b[0m, in \u001b[0;36m<cell line: 9>\u001b[0;34m()\u001b[0m\n\u001b[1;32m     12\u001b[0m \u001b[38;5;66;03m#100% intenstiy for the max range\u001b[39;00m\n\u001b[1;32m     13\u001b[0m max100 \u001b[38;5;241m=\u001b[39m np\u001b[38;5;241m.\u001b[39mpercentile(fish1\u001b[38;5;241m.\u001b[39mflatten(),\u001b[38;5;241m100\u001b[39m)\n\u001b[0;32m---> 14\u001b[0m ax[i] \u001b[38;5;241m=\u001b[39m hist(fish1\u001b[38;5;241m.\u001b[39mflatten(),bins\u001b[38;5;241m=\u001b[39m\u001b[38;5;241m200\u001b[39m,\u001b[38;5;28mrange\u001b[39m\u001b[38;5;241m=\u001b[39m(\u001b[38;5;241m0\u001b[39m,max100))\n\u001b[1;32m     15\u001b[0m plt\u001b[38;5;241m.\u001b[39myscale(\u001b[38;5;124m'\u001b[39m\u001b[38;5;124mlog\u001b[39m\u001b[38;5;124m'\u001b[39m)\n",
      "\u001b[0;31mTypeError\u001b[0m: 'tuple' object does not support item assignment"
     ]
    },
    {
     "data": {
      "image/png": "[encoded data removed]",
      "text/plain": [
       "<Figure size 432x288 with 1 Axes>"
      ]
     },
     "metadata": {
      "needs_background": "light"
     },
     "output_type": "display_data"
    }
   ],
   "source": [
    "import napari\n",
    "from napari.utils import nbscreenshot\n",
    "from tifffile import imread\n",
    "\n",
    "from matplotlib.pyplot import hist\n",
    "import matplotlib.pyplot as plt\n",
    "import numpy as np\n",
    "\n",
    "for i in range(0,4):\n",
    "    print(file[i])\n",
    "    fish1 = imread(files[i])\n",
    "    viewer = napari.view_image(fish1)\n",
    "    #100% intenstiy for the max range\n",
    "    max100 = np.percentile(fish1.flatten(),100)\n",
    "    ax = hist(fish1.flatten(),bins=200,range=(0,max100))\n",
    "    plt.yscale('log')\n",
    "    \n",
    "#crop the image for faster processing\n",
    "#fish1 = fish1[40:50,100:300,100:300]\n",
    "\n",
    "\n",
    "#viewer.dims.ndisplay = 3\n",
    "#print(\"file dimension: (z,y,x)\",viewer.layers['original'].data.shape)"
   ]
  },
  {
   "cell_type": "markdown",
   "id": "a7984835",
   "metadata": {},
   "source": [
    "## Original image histogram"
   ]
  },
  {
   "cell_type": "code",
   "execution_count": 23,
   "id": "b544c247",
   "metadata": {},
   "outputs": [
    {
     "data": {
      "image/png": "[encoded data removed]",
      "text/plain": [
       "<Figure size 432x288 with 1 Axes>"
      ]
     },
     "metadata": {
      "needs_background": "light"
     },
     "output_type": "display_data"
    }
   ],
   "source": [
    "from matplotlib.pyplot import hist\n",
    "import matplotlib.pyplot as plt\n",
    "import numpy as np\n",
    "\n",
    "#100% intenstiy for the max range\n",
    "max100 = np.percentile(fish1.flatten(),100)\n",
    "ax = hist(fish1.flatten(),bins=200,range=(0,max100))\n",
    "plt.yscale('log')\n",
    "\n",
    "#to do: use k-means to find the cutoff"
   ]
  },
  {
   "cell_type": "code",
   "execution_count": null,
   "id": "915a94ff",
   "metadata": {
    "scrolled": true
   },
   "outputs": [],
   "source": [
    "from sklearn.cluster import KMeans\n",
    "kmeans = KMeans(n_clusters=2, random_state=0).fit(fish1.flatten().reshape(-1,1))\n",
    "print(kmeans.get_params())"
   ]
  },
  {
   "cell_type": "code",
   "execution_count": null,
   "id": "c8c4024b",
   "metadata": {},
   "outputs": [],
   "source": [
    "print(kmeans.cluster_centers_)"
   ]
  },
  {
   "cell_type": "code",
   "execution_count": null,
   "id": "0aaf7a03",
   "metadata": {},
   "outputs": [],
   "source": []
  },
  {
   "cell_type": "markdown",
   "id": "3786fa3d",
   "metadata": {},
   "source": [
    "## Remove background\n",
    "Use skimage.morphology.white_tophat\n",
    "\n",
    "The white top hat of an image is defined as the image minus its morphological opening. This operation returns the bright spots of the image that are smaller than the footprint."
   ]
  },
  {
   "cell_type": "code",
   "execution_count": null,
   "id": "4f2e9eb8",
   "metadata": {},
   "outputs": [],
   "source": [
    "from skimage.morphology import white_tophat, ball\n",
    "bg_subtracted_image = white_tophat(fish1, ball(10))\n",
    "\n",
    "viewer.add_image(bg_subtracted_image, name='remove_bg')"
   ]
  },
  {
   "cell_type": "markdown",
   "id": "27cdae60",
   "metadata": {},
   "source": [
    "## Remove noise\n",
    "Use skimage.filters.median"
   ]
  },
  {
   "cell_type": "code",
   "execution_count": null,
   "id": "8268d451",
   "metadata": {},
   "outputs": [],
   "source": [
    "from skimage.filters import median\n",
    "median_filtered = median(bg_subtracted_image,ball(1))\n",
    "viewer.add_image(median_filtered, name='filtered')"
   ]
  }
 ],
 "metadata": {
  "kernelspec": {
   "display_name": "Python 3 (ipykernel)",
   "language": "python",
   "name": "python3"
  },
  "language_info": {
   "codemirror_mode": {
    "name": "ipython",
    "version": 3
   },
   "file_extension": ".py",
   "mimetype": "text/x-python",
   "name": "python",
   "nbconvert_exporter": "python",
   "pygments_lexer": "ipython3",
   "version": "3.10.2"
  }
 },
 "nbformat": 4,
 "nbformat_minor": 5
}
